{
  "nbformat": 4,
  "nbformat_minor": 0,
  "metadata": {
    "colab": {
      "name": "Lecture2.ipynb",
      "provenance": [],
      "collapsed_sections": [],
      "authorship_tag": "ABX9TyPHogaw/pRCAEDI1a/1BYM0",
      "include_colab_link": true
    },
    "kernelspec": {
      "name": "python3",
      "display_name": "Python 3"
    },
    "language_info": {
      "name": "python"
    },
    "accelerator": "GPU"
  },
  "cells": [
    {
      "cell_type": "markdown",
      "metadata": {
        "id": "view-in-github",
        "colab_type": "text"
      },
      "source": [
        "<a href=\"https://colab.research.google.com/github/franciscovillaescusa/ML_lectures/blob/main/Lecture2.ipynb\" target=\"_parent\"><img src=\"https://colab.research.google.com/assets/colab-badge.svg\" alt=\"Open In Colab\"/></a>"
      ]
    },
    {
      "cell_type": "markdown",
      "metadata": {
        "id": "UqPAgtWbjy5p"
      },
      "source": [
        "#### In this exercise we are going to use convolutional neural networks to extract cosmological information from 2D mass projected fields from 1,000 N-body simulations belonging to the CAMELS IllustrisTNG LH suite.\n",
        "\n",
        "#### These maps contain the projected mass in a region of $25\\times 25 \\times 5 ~(h^{-1}{\\rm Mpc})^3$. The idea is that the convolutional neural network is going to look for unique features or summnary statistics that will use to determine the value of $\\Omega_{\\rm m}$ and $\\sigma_8$ from the maps themselves, without us computing summary statistics or any likelihood function.\n",
        "\n",
        "#### The data is located in dropbox here:\n",
        "[Data](https://www.dropbox.com/sh/vghnick9hr1gksr/AADPV4FMPsWpurnSl9kXZjp1a?dl=0)\n",
        "\n",
        "#### Some slides about CNNs can be found here:\n",
        "\n",
        "[CNNs](https://docs.google.com/presentation/d/1EP7U3QJrYvaQopYFjOYybEQ6s95FiFQeh5SWq6vs6Jc/edit?usp=sharing)\n"
      ]
    },
    {
      "cell_type": "markdown",
      "metadata": {
        "id": "6_w04HEOkJYV"
      },
      "source": [
        "### Load the libraries"
      ]
    },
    {
      "cell_type": "code",
      "metadata": {
        "id": "39lnSqvbjvh0"
      },
      "source": [
        "import numpy as np\n",
        "import sys,os,time\n",
        "import torch\n",
        "import torch.nn as nn\n",
        "from torch.utils.data.dataset import Dataset\n",
        "from torch.utils.data import DataLoader"
      ],
      "execution_count": null,
      "outputs": []
    },
    {
      "cell_type": "markdown",
      "metadata": {
        "id": "JwkfvCqpUH-x"
      },
      "source": [
        "### If GPUs are available, use them"
      ]
    },
    {
      "cell_type": "code",
      "metadata": {
        "colab": {
          "base_uri": "https://localhost:8080/"
        },
        "id": "SzKBpJ9ZUMZ-",
        "outputId": "f271c7bf-6515-469c-ff61-76adcfc81c34"
      },
      "source": [
        "if torch.cuda.is_available():\n",
        "    print(\"CUDA Available\")\n",
        "    device = torch.device('cuda')\n",
        "else:\n",
        "    print('CUDA Not Available')\n",
        "    device = torch.device('cpu')"
      ],
      "execution_count": null,
      "outputs": [
        {
          "output_type": "stream",
          "text": [
            "CUDA Available\n"
          ],
          "name": "stdout"
        }
      ]
    },
    {
      "cell_type": "markdown",
      "metadata": {
        "id": "310qUCeYl70B"
      },
      "source": [
        "### Load the data"
      ]
    },
    {
      "cell_type": "code",
      "metadata": {
        "colab": {
          "base_uri": "https://localhost:8080/"
        },
        "id": "e863K7cwl7Ty",
        "outputId": "aaef2be9-7fcd-4703-bbde-5c39aec49e86"
      },
      "source": [
        "# load the maps\n",
        "maps = np.load('Images_M_IllustrisTNG_LH_grid=64_z=0.00.npy')\n",
        "print(maps.shape)\n",
        "\n",
        "# load the parameter values\n",
        "params = np.loadtxt('params_IllustrisTNG_maps.txt')\n",
        "print(params.shape)"
      ],
      "execution_count": null,
      "outputs": [
        {
          "output_type": "stream",
          "text": [
            "(15000, 64, 64)\n",
            "(15000, 2)\n"
          ],
          "name": "stdout"
        }
      ]
    },
    {
      "cell_type": "markdown",
      "metadata": {
        "id": "iAsR0usAmWxF"
      },
      "source": [
        "### Get familiar with the data"
      ]
    },
    {
      "cell_type": "code",
      "metadata": {
        "colab": {
          "base_uri": "https://localhost:8080/"
        },
        "id": "wZAXm77EmN3G",
        "outputId": "603144b4-fdb9-4c5b-adb3-09567489ef69"
      },
      "source": [
        "# select the first map\n",
        "map0 = maps[0]\n",
        "print('Map0 dimensions:',map0.shape)\n",
        "print('%.3e < map0 < %.3e'%(np.min(map0), np.max(map0)))\n",
        "print(map0)\n",
        "print(params[0])"
      ],
      "execution_count": null,
      "outputs": [
        {
          "output_type": "stream",
          "text": [
            "Map0 dimensions: (64, 64)\n",
            "1.907e+09 < map0 < 2.444e+13\n",
            "[[1.9231244e+10 1.6727726e+10 1.4641767e+10 ... 1.5229234e+11\n",
            "  3.2197116e+10 2.3492391e+10]\n",
            " [1.3092933e+10 1.6298293e+10 1.5066103e+10 ... 1.0133546e+11\n",
            "  3.1450460e+10 1.5090869e+10]\n",
            " [2.2257840e+10 3.8474117e+10 2.1472688e+10 ... 1.0981424e+11\n",
            "  3.3890318e+10 1.8398728e+10]\n",
            " ...\n",
            " [1.8270138e+10 1.3947409e+10 1.4366807e+10 ... 6.2173590e+10\n",
            "  5.6780755e+10 7.3579930e+10]\n",
            " [1.7102807e+10 3.8144778e+10 1.4743786e+11 ... 2.7589240e+11\n",
            "  5.1694064e+10 2.3939469e+10]\n",
            " [2.5425111e+10 5.4379487e+10 2.7855690e+10 ... 7.4623156e+10\n",
            "  3.1854307e+10 2.3992355e+10]]\n",
            "[0.30899999 0.97899997]\n"
          ],
          "name": "stdout"
        }
      ]
    },
    {
      "cell_type": "markdown",
      "metadata": {
        "id": "j51CS2AqndQu"
      },
      "source": [
        "### Plot one map"
      ]
    },
    {
      "cell_type": "code",
      "metadata": {
        "colab": {
          "base_uri": "https://localhost:8080/",
          "height": 289
        },
        "id": "V3LQ2adgmQV7",
        "outputId": "edc65ed3-6253-48c9-e1cb-fc26971342c0"
      },
      "source": [
        "import matplotlib.pyplot as plt\n",
        "from matplotlib.colors import LogNorm\n",
        " \n",
        "plt.ylabel(r'$X\\,[h^{-1}{\\rm Mpc}]$')\n",
        "plt.xlabel(r'$Y\\,[h^{-1}{\\rm Mpc}]$')\n",
        "\n",
        "plt.imshow(maps[0],cmap=plt.get_cmap('jet'),origin='lower',\n",
        "           extent=[0, 25, 0, 25], interpolation='bicubic',\n",
        "           norm = LogNorm(vmin=1e10,vmax=1e13))\n",
        "\n",
        "plt.show()"
      ],
      "execution_count": null,
      "outputs": [
        {
          "output_type": "display_data",
          "data": {
            "image/png": "[encoded data removed]",
            "text/plain": [
              "<Figure size 432x288 with 1 Axes>"
            ]
          },
          "metadata": {
            "tags": [],
            "needs_background": "light"
          }
        }
      ]
    },
    {
      "cell_type": "markdown",
      "metadata": {
        "id": "BYY3vasiDcQo"
      },
      "source": [
        "### Define the value of the (hyper-)parameters"
      ]
    },
    {
      "cell_type": "code",
      "metadata": {
        "id": "fNTApXWODbnk"
      },
      "source": [
        "f_maps         = 'Images_M_IllustrisTNG_LH_grid=64_z=0.00.npy' #file containing the maps\n",
        "f_params       = 'params_IllustrisTNG_maps.txt'                #file with the cosmological parameters\n",
        "maps_per_sim   = 15  #number of maps per simulation\n",
        "batch_size     = 32\n",
        "seed           = 2     #the data is randomly shuffled before being split into training, validation and testing. This set the random seed for that. \n",
        "lr             = 1e-4  #learning rate\n",
        "dr             = 0.5   #dropout rate\n",
        "hidden         = 4     #number of channels in the first CNN\n",
        "wd             = 2e-4  #weight decay\n",
        "epochs         = 100   #number of epochs to train the model\n",
        "min_valid_loss = 1e7\n",
        "f_model        = 'best_model_maps.pt'"
      ],
      "execution_count": null,
      "outputs": []
    },
    {
      "cell_type": "markdown",
      "metadata": {
        "id": "K73ddoc_EWRD"
      },
      "source": [
        "### Define the data loader"
      ]
    },
    {
      "cell_type": "code",
      "metadata": {
        "id": "WrA_K4vEnm_X"
      },
      "source": [
        "# This routine creates a dataset loader\n",
        "# mode ---------> 'train', 'valid', 'test', 'all'. How to create the dataset\n",
        "# f_maps -------> file containing the maps\n",
        "# f_params -----> file containing the value of the cosmological parameters\n",
        "# batch_size ---> number of elements in the batch\n",
        "# seed ---------> the data is randomly shuffled before being split into training, validation and testing. This set the random seed for that. \n",
        "# maps_per_sim -> number of maps per simulation\n",
        "def create_dataset(mode, f_SFRD, f_params, batch_size, seed, maps_per_sim):\n",
        "\n",
        "    # create the class with the dataset\n",
        "    data_set = make_dataset(mode, f_maps, f_params, seed, maps_per_sim)\n",
        "\n",
        "    # create the data loader\n",
        "    return DataLoader(dataset=data_set, batch_size=batch_size, shuffle=True)\n",
        "\n",
        "\n",
        "# This class creates the dataset \n",
        "class make_dataset():\n",
        "\n",
        "    def __init__(self, mode, f_maps, f_params, seed, maps_per_sim):\n",
        "\n",
        "        # read the data\n",
        "        maps   = np.load(f_maps)       #read the maps\n",
        "        params = np.loadtxt(f_params)  #read value of the parameters\n",
        "\n",
        "        # get the number simulations and the number of pixels per map\n",
        "        sims     = maps.shape[0]//maps_per_sim\n",
        "        x_pixels = maps.shape[1]    \n",
        "        y_pixels = maps.shape[2]        \n",
        "\n",
        "        # normalize the maps\n",
        "        maps = np.log10(maps)\n",
        "        mean = np.mean(maps, dtype=np.float64)\n",
        "        std  = np.std(maps,  dtype=np.float64)\n",
        "        maps = (maps - mean)/std\n",
        "\n",
        "        # Normalize the value of the parameters\n",
        "        min_params = np.min(params, axis=0)\n",
        "        max_params = np.max(params, axis=0)\n",
        "        params     = (params - min_params)/(max_params - min_params)\n",
        "\n",
        "        # get the size and offset depending on the type of dataset\n",
        "        if   mode=='train':  size, offset = int(sims*0.70), int(sims*0.00)\n",
        "        elif mode=='valid':  size, offset = int(sims*0.15), int(sims*0.70)\n",
        "        elif mode=='test':   size, offset = int(sims*0.15), int(sims*0.85)\n",
        "        elif mode=='all':    size, offset = int(sims*1.00), int(sims*0.00)\n",
        "        else:                raise Exception('Wrong name!')\n",
        "\n",
        "        # randomly shuffle the data. Instead of 0 1 2 3...999 have a \n",
        "        # random permutation. E.g. 5 9 0 29...342\n",
        "        np.random.seed(seed)\n",
        "        ids = np.arange(sims)\n",
        "        np.random.shuffle(ids)\n",
        "        ids = ids[offset:offset+size] #select indexes of the mode\n",
        "\n",
        "        # get the indexes of the selected maps\n",
        "        indexes = np.zeros(size*maps_per_sim, dtype=np.int32)\n",
        "        count = 0\n",
        "        for i in ids:\n",
        "          for j in range(maps_per_sim):\n",
        "            indexes[count] = i*maps_per_sim + j\n",
        "            count += 1\n",
        "\n",
        "        # get the corresponding maps and parameter values\n",
        "        self.size   = size*maps_per_sim\n",
        "        self.input  = torch.tensor(maps[indexes],   dtype=torch.float32)\n",
        "        self.output = torch.tensor(params[indexes], dtype=torch.float32)\n",
        "\n",
        "        # in pytorch, maps should have dimensions of [batch, channels, height, width]\n",
        "        self.input.unsqueeze_(1)\n",
        "\n",
        "    # This protocol returns the size of the dataset\n",
        "    def __len__(self):\n",
        "        return self.size\n",
        "\n",
        "    # This protocol returns \n",
        "    def __getitem__(self, idx):\n",
        "        return self.input[idx], self.output[idx]\n",
        "\n",
        "# get the data\n",
        "train_loader = create_dataset('train', f_maps, f_params, batch_size, seed, maps_per_sim) #training data\n",
        "valid_loader = create_dataset('valid', f_maps, f_params, batch_size, seed, maps_per_sim) #validation data\n",
        "test_loader  = create_dataset('test',  f_maps, f_params, batch_size, seed, maps_per_sim) #test data"
      ],
      "execution_count": null,
      "outputs": []
    },
    {
      "cell_type": "markdown",
      "metadata": {
        "id": "TeVDy1zYG5Rv"
      },
      "source": [
        "### Define the architecture of the model"
      ]
    },
    {
      "cell_type": "code",
      "metadata": {
        "colab": {
          "base_uri": "https://localhost:8080/",
          "height": 232
        },
        "id": "zXcNu1AXDUP5",
        "outputId": "0162d998-a2ad-4417-8277-62713076a37e"
      },
      "source": [
        "class model_a(nn.Module):\n",
        "    \n",
        "    def __init__(self, hidden, dropout_rate):\n",
        "        super(model_a, self).__init__()\n",
        "        \n",
        "        # define the layers here\n",
        "        # input: 1x64x64 ----------> output: hiddenx32x32\n",
        "        self.C1 = nn.Conv2d(1,   hidden, kernel_size=4, stride=2, padding=1,\n",
        "                            bias=True, padding_mode='circular')\n",
        "        self.B1 = nn.BatchNorm2d(hidden)\n",
        "\n",
        "        # input: hiddenx32x32 --------> output: 2*hiddenx16x16\n",
        "        self.C2 = nn.Conv2d(hidden, 2*hidden, kernel_size=4, stride=2, padding=1,\n",
        "                            bias=True, padding_mode='circular')\n",
        "        self.B2 = nn.BatchNorm2d(2*hidden)\n",
        "        \n",
        "        # input: 4*hiddenx16x16 ----------> output: 8*hiddenx8x8\n",
        "        self.C3 = nn.Conv2d(2*hidden, 4*hidden, kernel_size=4, stride=2, padding=1,\n",
        "                            bias=True, padding_mode='circular')\n",
        "        self.B3 = nn.BatchNorm2d(4*hidden)\n",
        "        \n",
        "        # input: 8*hiddenx8x8 ----------> output: 16*hiddenx4x4\n",
        "        self.C4 = nn.Conv2d(4*hidden, 8*hidden, kernel_size=4, stride=2, padding=1,\n",
        "                            bias=True, padding_mode='circular')\n",
        "        self.B4 = nn.BatchNorm2d(8*hidden)\n",
        "        \n",
        "        # input: 16*hiddenx4x4 ----------> output: 32*hidden*x2x2\n",
        "        self.C5 = nn.Conv2d(8*hidden, 16*hidden, kernel_size=4, stride=2, padding=1,\n",
        "                            bias=True, padding_mode='circular')\n",
        "\n",
        "        self.FC1  = nn.Linear(16*hidden*2*2, 2) \n",
        "\n",
        "        self.dropout   = nn.Dropout(p=0.5)\n",
        "        self.ReLU      = nn.ReLU()\n",
        "        self.LeakyReLU = nn.LeakyReLU(0.2)\n",
        "        self.tanh      = nn.Tanh()\n",
        "\n",
        "\n",
        "    def forward(self, image):\n",
        "\n",
        "        x = self.LeakyReLU(self.B1(self.C1(image)))\n",
        "        x = self.LeakyReLU(self.B2(self.C2(x)))\n",
        "        x = self.LeakyReLU(self.B3(self.C3(x)))\n",
        "        x = self.LeakyReLU(self.B4(self.C4(x)))\n",
        "        x = self.LeakyReLU(self.C5(x))\n",
        "        x = x.view(image.shape[0],-1)\n",
        "        x = self.dropout(x)\n",
        "        x = self.FC1(x)\n",
        "\n",
        "        return x\n",
        "\n",
        "class model_b(nn.Module):\n",
        "    \n",
        "    def __init__(self, hidden, dropout_rate):\n",
        "        super(model_b, self).__init__()\n",
        "        \n",
        "        # define the layers here\n",
        "        # input: 1x64x64 ----------> output: hiddenx32x32\n",
        "        self.C0 = nn.Conv2d(1,   hidden, kernel_size=3, stride=1, padding=1,\n",
        "                            bias=True, padding_mode='circular')\n",
        "        self.C1 = nn.Conv2d(hidden, hidden, kernel_size=4, stride=2, padding=1,\n",
        "                            bias=True, padding_mode='circular')\n",
        "        self.B0 = nn.BatchNorm2d(hidden)\n",
        "        self.B1 = nn.BatchNorm2d(hidden)\n",
        "\n",
        "        # input: hiddenx32x32 --------> output: 2*hiddenx16x16\n",
        "        self.C2 = nn.Conv2d(hidden,   2*hidden, kernel_size=3, stride=1, padding=1,\n",
        "                            bias=True, padding_mode='circular')\n",
        "        self.C3 = nn.Conv2d(2*hidden, 2*hidden, kernel_size=4, stride=2, padding=1,\n",
        "                            bias=True, padding_mode='circular')\n",
        "        self.B2 = nn.BatchNorm2d(2*hidden)\n",
        "        self.B3 = nn.BatchNorm2d(2*hidden)\n",
        "        \n",
        "        # input: 4*hiddenx16x16 ----------> output: 8*hiddenx8x8\n",
        "        self.C4 = nn.Conv2d(2*hidden, 4*hidden, kernel_size=3, stride=1, padding=1,\n",
        "                            bias=True, padding_mode='circular')\n",
        "        self.C5 = nn.Conv2d(4*hidden, 4*hidden, kernel_size=4, stride=2, padding=1,\n",
        "                            bias=True, padding_mode='circular')\n",
        "        self.B4 = nn.BatchNorm2d(4*hidden)\n",
        "        self.B5 = nn.BatchNorm2d(4*hidden)\n",
        "        \n",
        "        # input: 8*hiddenx8x8 ----------> output: 16*hiddenx4x4\n",
        "        self.C6 = nn.Conv2d(4*hidden, 8*hidden, kernel_size=3, stride=1, padding=1,\n",
        "                            bias=True, padding_mode='circular')\n",
        "        self.C7 = nn.Conv2d(8*hidden, 8*hidden, kernel_size=4, stride=2, padding=1,\n",
        "                            bias=True, padding_mode='circular')\n",
        "        self.B6 = nn.BatchNorm2d(8*hidden)\n",
        "        self.B7 = nn.BatchNorm2d(8*hidden)\n",
        "        \n",
        "        # input: 16*hiddenx4x4 ----------> output: 32*hidden*x2x2\n",
        "        self.C8 = nn.Conv2d(8*hidden, 16*hidden, kernel_size=3, stride=1, padding=1,\n",
        "                            bias=True, padding_mode='circular')\n",
        "        self.C9 = nn.Conv2d(16*hidden, 16*hidden, kernel_size=4, stride=2, padding=1,\n",
        "                            bias=True, padding_mode='circular')\n",
        "        self.B8 = nn.BatchNorm2d(16*hidden)\n",
        "\n",
        "        self.FC1  = nn.Linear(16*hidden*2*2, 2) \n",
        "\n",
        "        self.dropout   = nn.Dropout(p=0.5)\n",
        "        self.ReLU      = nn.ReLU()\n",
        "        self.LeakyReLU = nn.LeakyReLU(0.2)\n",
        "        self.tanh      = nn.Tanh()\n",
        "\n",
        "\n",
        "    def forward(self, image):\n",
        "\n",
        "        x = self.LeakyReLU(self.B0(self.C0(image)))\n",
        "        x = self.LeakyReLU(self.B1(self.C1(x)))\n",
        "        x = self.LeakyReLU(self.B2(self.C2(x)))\n",
        "        x = self.LeakyReLU(self.B3(self.C3(x)))\n",
        "        x = self.LeakyReLU(self.B4(self.C4(x)))\n",
        "        x = self.LeakyReLU(self.B5(self.C5(x)))\n",
        "        x = self.LeakyReLU(self.B6(self.C6(x)))\n",
        "        x = self.LeakyReLU(self.B7(self.C7(x)))\n",
        "        x = self.LeakyReLU(self.B8(self.C8(x)))\n",
        "        x = self.LeakyReLU(self.C9(x))\n",
        "        x = x.view(image.shape[0],-1)\n",
        "        x = self.dropout(x)\n",
        "        x = self.FC1(x)\n",
        "\n",
        "        return x        \n",
        "\n",
        "# get the model and move it to the GPU\n",
        "model = model_a(hidden, dr)  #architecture\n",
        "model.to(device=device) #move the architecture to the GPU, if available\n",
        "\n",
        "# compute the number of parameters in the model\n",
        "network_total_params = sum(p.numel() for p in model.parameters())\n",
        "print('total number of parameters in the model = %d'%network_total_params)"
      ],
      "execution_count": null,
      "outputs": [
        {
          "output_type": "error",
          "ename": "NameError",
          "evalue": "ignored",
          "traceback": [
            "\u001b[0;31m---------------------------------------------------------------------------\u001b[0m",
            "\u001b[0;31mNameError\u001b[0m                                 Traceback (most recent call last)",
            "\u001b[0;32m<ipython-input-1-41ec12d501c9>\u001b[0m in \u001b[0;36m<module>\u001b[0;34m()\u001b[0m\n\u001b[0;32m----> 1\u001b[0;31m \u001b[0;32mclass\u001b[0m \u001b[0mmodel_a\u001b[0m\u001b[0;34m(\u001b[0m\u001b[0mnn\u001b[0m\u001b[0;34m.\u001b[0m\u001b[0mModule\u001b[0m\u001b[0;34m)\u001b[0m\u001b[0;34m:\u001b[0m\u001b[0;34m\u001b[0m\u001b[0;34m\u001b[0m\u001b[0m\n\u001b[0m\u001b[1;32m      2\u001b[0m \u001b[0;34m\u001b[0m\u001b[0m\n\u001b[1;32m      3\u001b[0m     \u001b[0;32mdef\u001b[0m \u001b[0m__init__\u001b[0m\u001b[0;34m(\u001b[0m\u001b[0mself\u001b[0m\u001b[0;34m,\u001b[0m \u001b[0mhidden\u001b[0m\u001b[0;34m,\u001b[0m \u001b[0mdropout_rate\u001b[0m\u001b[0;34m)\u001b[0m\u001b[0;34m:\u001b[0m\u001b[0;34m\u001b[0m\u001b[0;34m\u001b[0m\u001b[0m\n\u001b[1;32m      4\u001b[0m         \u001b[0msuper\u001b[0m\u001b[0;34m(\u001b[0m\u001b[0mmodel_a\u001b[0m\u001b[0;34m,\u001b[0m \u001b[0mself\u001b[0m\u001b[0;34m)\u001b[0m\u001b[0;34m.\u001b[0m\u001b[0m__init__\u001b[0m\u001b[0;34m(\u001b[0m\u001b[0;34m)\u001b[0m\u001b[0;34m\u001b[0m\u001b[0;34m\u001b[0m\u001b[0m\n\u001b[1;32m      5\u001b[0m \u001b[0;34m\u001b[0m\u001b[0m\n",
            "\u001b[0;31mNameError\u001b[0m: name 'nn' is not defined"
          ]
        }
      ]
    },
    {
      "cell_type": "markdown",
      "metadata": {
        "id": "I6KEF6B9UcS5"
      },
      "source": [
        "### Define the loss function and the optimizer"
      ]
    },
    {
      "cell_type": "code",
      "metadata": {
        "id": "FUPSS0v1UTZ9"
      },
      "source": [
        "criterion = nn.MSELoss()  #loss function. In this case MSE (mean squared error)\n",
        "optimizer = torch.optim.Adam(model.parameters(), lr=lr, betas=(0.5, 0.999), weight_decay=wd)"
      ],
      "execution_count": null,
      "outputs": []
    },
    {
      "cell_type": "markdown",
      "metadata": {
        "id": "KtcVvJbJU3eU"
      },
      "source": [
        "### Train!!"
      ]
    },
    {
      "cell_type": "code",
      "metadata": {
        "colab": {
          "base_uri": "https://localhost:8080/"
        },
        "id": "R39-GKLrUvB7",
        "outputId": "0f6c7c58-d1c4-441b-c528-c0040fef25ef"
      },
      "source": [
        "start = time.time()\n",
        "\n",
        "# do a loop over all epochs\n",
        "for epoch in range(epochs):\n",
        "        \n",
        "    # do training\n",
        "    train_loss, points = 0.0, 0\n",
        "    model.train()  #set this when training. Some architecture pieces, e.g. dropout behave differently\n",
        "    for maps_train, params_train in train_loader:  #do a loop over all elements in the training set\n",
        "\n",
        "        # get the number of elements in the batch\n",
        "        bs = maps_train.shape[0]   \n",
        "\n",
        "        # move data to GPU\n",
        "        maps_train   = maps_train.to(device) \n",
        "        params_train = params_train.to(device)  \n",
        "\n",
        "        # compute the value predicted by the network \n",
        "        params_pred  = model(maps_train)\n",
        "\n",
        "        # compute loss \n",
        "        loss = criterion(params_pred, params_train)\n",
        "\n",
        "        # compute cumulative loss and number of examples used\n",
        "        train_loss += loss.item()*bs\n",
        "        points     += bs\n",
        "\n",
        "        # zero gradients and do backpropagation. This is the magic!\n",
        "        optimizer.zero_grad()\n",
        "        loss.backward()\n",
        "        optimizer.step()\n",
        "\n",
        "    # get the average training loss\n",
        "    train_loss /= points\n",
        "\n",
        "\n",
        "    # do validation\n",
        "    valid_loss, points = 0.0, 0\n",
        "    model.eval()   #set this for validation and testing. Some architecture pieces, e.g. dropout behave differently\n",
        "    for maps_val, params_val in valid_loader: # do a loop over all elements in the validation set\n",
        "        with torch.no_grad():   #put this for validation/testing, so save memory and be more efficient. It tells to dont save gradients.\n",
        "\n",
        "            # get the number of elements in the batch\n",
        "            bs = maps_val.shape[0]\n",
        "\n",
        "            # move data to the GPU\n",
        "            maps_val   = maps_val.to(device)\n",
        "            params_val = params_val.to(device)\n",
        "\n",
        "            # compute prediction by the network\n",
        "            params_pred = model(maps_val)\n",
        "\n",
        "            # compute cumulative loss and number of examples used\n",
        "            valid_loss += criterion(params_pred, params_val).item()*bs\n",
        "            points     += bs\n",
        "\n",
        "    # get the average validation loss\n",
        "    valid_loss /= points\n",
        "\n",
        "    # save model if it has a lower validation loss\n",
        "    print('%03d %.3e %.3e'%(epoch, train_loss, valid_loss), end='')\n",
        "    if valid_loss<min_valid_loss:\n",
        "        torch.save(model.state_dict(), f_model)\n",
        "        min_valid_loss = valid_loss\n",
        "        print(' (best-model)')\n",
        "    else:\n",
        "        print('')\n",
        "\n",
        "    \n",
        "stop = time.time()\n",
        "print('Time taken (seconds):', \"{:.4f}\".format(stop-start))"
      ],
      "execution_count": null,
      "outputs": [
        {
          "output_type": "stream",
          "text": [
            "000 1.072e-01 5.178e-02 (best-model)\n",
            "001 5.562e-02 4.011e-02 (best-model)\n",
            "002 4.544e-02 3.578e-02 (best-model)\n",
            "003 4.099e-02 3.411e-02 (best-model)\n",
            "004 3.804e-02 3.379e-02 (best-model)\n",
            "005 3.677e-02 3.269e-02 (best-model)\n",
            "006 3.487e-02 3.180e-02 (best-model)\n",
            "007 3.408e-02 3.071e-02 (best-model)\n",
            "008 3.263e-02 3.056e-02 (best-model)\n",
            "009 3.180e-02 2.978e-02 (best-model)\n",
            "010 3.104e-02 3.095e-02\n",
            "011 3.028e-02 3.276e-02\n",
            "012 2.945e-02 2.976e-02 (best-model)\n",
            "013 2.884e-02 2.970e-02 (best-model)\n",
            "014 2.857e-02 2.922e-02 (best-model)\n",
            "015 2.781e-02 2.901e-02 (best-model)\n",
            "016 2.751e-02 2.841e-02 (best-model)\n",
            "017 2.718e-02 3.127e-02\n",
            "018 2.680e-02 2.802e-02 (best-model)\n",
            "019 2.621e-02 2.866e-02\n",
            "020 2.630e-02 3.193e-02\n",
            "021 2.544e-02 3.052e-02\n",
            "022 2.541e-02 2.766e-02 (best-model)\n",
            "023 2.487e-02 2.865e-02\n",
            "024 2.470e-02 2.934e-02\n",
            "025 2.449e-02 2.724e-02 (best-model)\n",
            "026 2.372e-02 2.944e-02\n",
            "027 2.369e-02 2.760e-02\n",
            "028 2.318e-02 2.993e-02\n",
            "029 2.301e-02 2.757e-02\n",
            "030 2.237e-02 2.686e-02 (best-model)\n",
            "031 2.193e-02 2.778e-02\n",
            "032 2.204e-02 2.824e-02\n",
            "033 2.152e-02 2.568e-02 (best-model)\n",
            "034 2.136e-02 2.655e-02\n",
            "035 2.127e-02 2.984e-02\n",
            "036 2.069e-02 2.630e-02\n",
            "037 2.029e-02 2.703e-02\n",
            "038 1.996e-02 2.490e-02 (best-model)\n",
            "039 1.973e-02 2.648e-02\n",
            "040 1.971e-02 2.526e-02\n",
            "041 1.953e-02 2.474e-02 (best-model)\n",
            "042 1.892e-02 2.494e-02\n",
            "043 1.884e-02 2.560e-02\n",
            "044 1.848e-02 2.554e-02\n",
            "045 1.851e-02 2.546e-02\n",
            "046 1.849e-02 2.548e-02\n",
            "047 1.785e-02 2.582e-02\n",
            "048 1.797e-02 3.072e-02\n",
            "049 1.757e-02 2.656e-02\n",
            "050 1.789e-02 2.616e-02\n",
            "051 1.756e-02 2.671e-02\n",
            "052 1.682e-02 2.641e-02\n",
            "053 1.681e-02 2.413e-02 (best-model)\n",
            "054 1.698e-02 2.407e-02 (best-model)\n",
            "055 1.637e-02 2.400e-02 (best-model)\n",
            "056 1.655e-02 2.590e-02\n",
            "057 1.653e-02 2.487e-02\n",
            "058 1.621e-02 2.585e-02\n",
            "059 1.606e-02 2.643e-02\n",
            "060 1.605e-02 2.439e-02\n",
            "061 1.599e-02 2.896e-02\n",
            "062 1.557e-02 2.402e-02\n",
            "063 1.551e-02 2.621e-02\n",
            "064 1.560e-02 2.371e-02 (best-model)\n",
            "065 1.506e-02 2.436e-02\n",
            "066 1.499e-02 2.358e-02 (best-model)\n",
            "067 1.514e-02 2.559e-02\n",
            "068 1.524e-02 2.545e-02\n",
            "069 1.480e-02 2.344e-02 (best-model)\n",
            "070 1.485e-02 2.438e-02\n",
            "071 1.475e-02 2.459e-02\n",
            "072 1.477e-02 2.535e-02\n",
            "073 1.456e-02 2.479e-02\n",
            "074 1.440e-02 2.536e-02\n",
            "075 1.426e-02 2.394e-02\n",
            "076 1.420e-02 2.442e-02\n",
            "077 1.426e-02 2.459e-02\n",
            "078 1.413e-02 2.604e-02\n",
            "079 1.399e-02 2.510e-02\n",
            "080 1.418e-02 2.469e-02\n",
            "081 1.391e-02 2.667e-02\n",
            "082 1.415e-02 2.506e-02\n",
            "083 1.363e-02 3.213e-02\n",
            "084 1.416e-02 2.759e-02\n",
            "085 1.353e-02 2.515e-02\n",
            "086 1.347e-02 2.959e-02\n",
            "087 1.361e-02 2.458e-02\n",
            "088 1.360e-02 2.575e-02\n",
            "089 1.338e-02 2.986e-02\n",
            "090 1.302e-02 2.724e-02\n",
            "091 1.293e-02 2.464e-02\n",
            "092 1.285e-02 2.516e-02\n",
            "093 1.305e-02 2.513e-02\n",
            "094 1.314e-02 2.464e-02\n",
            "095 1.289e-02 2.725e-02\n",
            "096 1.268e-02 2.448e-02\n",
            "097 1.259e-02 2.597e-02\n",
            "098 1.287e-02 2.510e-02\n",
            "099 1.250e-02 2.447e-02\n",
            "Time taken (seconds): 345.0101\n"
          ],
          "name": "stdout"
        }
      ]
    },
    {
      "cell_type": "code",
      "metadata": {
        "id": "Z0DPvSm3WRKG"
      },
      "source": [
        ""
      ],
      "execution_count": null,
      "outputs": []
    },
    {
      "cell_type": "markdown",
      "metadata": {
        "id": "v_wGIRFx9UqH"
      },
      "source": [
        "### Test the model"
      ]
    },
    {
      "cell_type": "code",
      "metadata": {
        "colab": {
          "base_uri": "https://localhost:8080/"
        },
        "id": "TiLAmbEFiga8",
        "outputId": "6c2b184b-2f9d-41ab-ee32-973d4188132c"
      },
      "source": [
        "# get the test data\n",
        "test_loader = create_dataset('test', f_maps, f_params, batch_size, seed, maps_per_sim) #test data\n",
        "\n",
        "# get the number of maps in the test set\n",
        "num_maps = 0\n",
        "for x,y in test_loader:\n",
        "  num_maps += x.shape[0]\n",
        "\n",
        "# define the arrays with the results\n",
        "params_T = np.zeros((num_maps,2), dtype=np.float32) #true values\n",
        "params_N = np.zeros((num_maps,2), dtype=np.float32) #network values\n",
        "\n",
        "# load the best-model and move it to the GPU\n",
        "model.load_state_dict(torch.load(f_model))\n",
        "model.to(device=device)\n",
        "\n",
        "# loop over the different batches and get the prediction\n",
        "offset = 0\n",
        "test_loss, points = 0.0, 0\n",
        "model.eval()\n",
        "for maps_test, params_test in test_loader:\n",
        "    with torch.no_grad():\n",
        "\n",
        "        # get the number of elements in the batch\n",
        "        bs = maps_test.shape[0]\n",
        "\n",
        "        # move data to GPU\n",
        "        maps_test   = maps_test.to(device)\n",
        "        params_test = params_test.to(device)\n",
        "        \n",
        "        # make prediction using network\n",
        "        params_pred = model(maps_test)\n",
        "\n",
        "        params_T[points:points+bs] = params_test.cpu().numpy()\n",
        "        params_N[points:points+bs] = params_pred.cpu().numpy()\n",
        "\n",
        "        # compute cumulative loss and number of examples used\n",
        "        test_loss += criterion(params_pred, params_test).item()*bs\n",
        "        points    += bs\n",
        "\n",
        "# get the average validation loss\n",
        "test_loss /= points\n",
        "\n",
        "print('test loss = %.3e'%test_loss)\n",
        "\n",
        "# denormalize the data\n",
        "params_T[:,0] = params_T[:,0]*(0.5-0.1) + 0.1\n",
        "params_N[:,0] = params_N[:,0]*(0.5-0.1) + 0.1\n",
        "\n",
        "params_T[:,1] = params_T[:,1]*(1.0-0.6) + 0.6\n",
        "params_N[:,1] = params_N[:,1]*(1.0-0.6) + 0.6"
      ],
      "execution_count": null,
      "outputs": [
        {
          "output_type": "stream",
          "text": [
            "test loss = 2.158e-02\n"
          ],
          "name": "stdout"
        }
      ]
    },
    {
      "cell_type": "code",
      "metadata": {
        "colab": {
          "base_uri": "https://localhost:8080/",
          "height": 298
        },
        "id": "zqvZ5OpWjp5V",
        "outputId": "04abee5e-cb6e-43ab-f92e-77f90fa856df"
      },
      "source": [
        "fig, (ax1, ax2) = plt.subplots(1, 2, gridspec_kw={'wspace': 0.2})\n",
        "\n",
        "for ax in [ax1,ax2]:\n",
        "  ax.set_xlabel(r'${\\rm True}$')\n",
        "ax1.set_ylabel(r'${\\rm Prediction}$')\n",
        "\n",
        "ax1.plot(params_T[:,0], params_N[:,0], ls='None', marker='*')\n",
        "ax1.plot([0.1,0.5],[0.1,0.5])\n",
        "\n",
        "ax2.plot(params_T[:,1], params_N[:,1], ls='None', marker='*')\n",
        "ax2.plot([0.6,1.0],[0.6,1.0])\n",
        "\n",
        "ax1.set_title(r'$\\Omega_{\\rm m}$')\n",
        "ax2.set_title(r'$\\sigma_8$')\n",
        " \n",
        "plt.show()"
      ],
      "execution_count": null,
      "outputs": [
        {
          "output_type": "display_data",
          "data": {
            "image/png": "[encoded data removed]",
            "text/plain": [
              "<Figure size 432x288 with 2 Axes>"
            ]
          },
          "metadata": {
            "tags": [],
            "needs_background": "light"
          }
        }
      ]
    },
    {
      "cell_type": "code",
      "metadata": {
        "id": "mZ8PA4GnA93D"
      },
      "source": [
        ""
      ],
      "execution_count": null,
      "outputs": []
    }
  ]
}